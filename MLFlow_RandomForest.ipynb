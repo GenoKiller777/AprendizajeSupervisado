{
  "nbformat": 4,
  "nbformat_minor": 0,
  "metadata": {
    "colab": {
      "provenance": [],
      "authorship_tag": "ABX9TyPlqadnY08s04wpoZPcgnEw",
      "include_colab_link": true
    },
    "kernelspec": {
      "name": "python3",
      "display_name": "Python 3"
    },
    "language_info": {
      "name": "python"
    }
  },
  "cells": [
    {
      "cell_type": "markdown",
      "metadata": {
        "id": "view-in-github",
        "colab_type": "text"
      },
      "source": [
        "<a href=\"https://colab.research.google.com/github/GenoKiller777/AprendizajeSupervisado/blob/main/MLFlow_RandomForest.ipynb\" target=\"_parent\"><img src=\"https://colab.research.google.com/assets/colab-badge.svg\" alt=\"Open In Colab\"/></a>"
      ]
    },
    {
      "cell_type": "code",
      "execution_count": 1,
      "metadata": {
        "colab": {
          "base_uri": "https://localhost:8080/"
        },
        "id": "DvMwXJOMW4RY",
        "outputId": "ef142546-0049-4332-b794-aa7ed0a72b29"
      },
      "outputs": [
        {
          "output_type": "stream",
          "name": "stdout",
          "text": [
            "Requirement already satisfied: mlflow in /usr/local/lib/python3.10/dist-packages (2.7.1)\n",
            "Requirement already satisfied: click<9,>=7.0 in /usr/local/lib/python3.10/dist-packages (from mlflow) (8.1.7)\n",
            "Requirement already satisfied: cloudpickle<3 in /usr/local/lib/python3.10/dist-packages (from mlflow) (2.2.1)\n",
            "Requirement already satisfied: databricks-cli<1,>=0.8.7 in /usr/local/lib/python3.10/dist-packages (from mlflow) (0.18.0)\n",
            "Requirement already satisfied: entrypoints<1 in /usr/local/lib/python3.10/dist-packages (from mlflow) (0.4)\n",
            "Requirement already satisfied: gitpython<4,>=2.1.0 in /usr/local/lib/python3.10/dist-packages (from mlflow) (3.1.40)\n",
            "Requirement already satisfied: pyyaml<7,>=5.1 in /usr/local/lib/python3.10/dist-packages (from mlflow) (6.0.1)\n",
            "Requirement already satisfied: protobuf<5,>=3.12.0 in /usr/local/lib/python3.10/dist-packages (from mlflow) (3.20.3)\n",
            "Requirement already satisfied: pytz<2024 in /usr/local/lib/python3.10/dist-packages (from mlflow) (2023.3.post1)\n",
            "Requirement already satisfied: requests<3,>=2.17.3 in /usr/local/lib/python3.10/dist-packages (from mlflow) (2.31.0)\n",
            "Requirement already satisfied: packaging<24 in /usr/local/lib/python3.10/dist-packages (from mlflow) (23.2)\n",
            "Requirement already satisfied: importlib-metadata!=4.7.0,<7,>=3.7.0 in /usr/local/lib/python3.10/dist-packages (from mlflow) (6.8.0)\n",
            "Requirement already satisfied: sqlparse<1,>=0.4.0 in /usr/local/lib/python3.10/dist-packages (from mlflow) (0.4.4)\n",
            "Requirement already satisfied: alembic!=1.10.0,<2 in /usr/local/lib/python3.10/dist-packages (from mlflow) (1.12.0)\n",
            "Requirement already satisfied: docker<7,>=4.0.0 in /usr/local/lib/python3.10/dist-packages (from mlflow) (6.1.3)\n",
            "Requirement already satisfied: Flask<3 in /usr/local/lib/python3.10/dist-packages (from mlflow) (2.2.5)\n",
            "Requirement already satisfied: numpy<2 in /usr/local/lib/python3.10/dist-packages (from mlflow) (1.23.5)\n",
            "Requirement already satisfied: scipy<2 in /usr/local/lib/python3.10/dist-packages (from mlflow) (1.11.3)\n",
            "Requirement already satisfied: pandas<3 in /usr/local/lib/python3.10/dist-packages (from mlflow) (1.5.3)\n",
            "Requirement already satisfied: querystring-parser<2 in /usr/local/lib/python3.10/dist-packages (from mlflow) (1.2.4)\n",
            "Requirement already satisfied: sqlalchemy<3,>=1.4.0 in /usr/local/lib/python3.10/dist-packages (from mlflow) (2.0.22)\n",
            "Requirement already satisfied: scikit-learn<2 in /usr/local/lib/python3.10/dist-packages (from mlflow) (1.2.2)\n",
            "Requirement already satisfied: pyarrow<14,>=4.0.0 in /usr/local/lib/python3.10/dist-packages (from mlflow) (9.0.0)\n",
            "Requirement already satisfied: markdown<4,>=3.3 in /usr/local/lib/python3.10/dist-packages (from mlflow) (3.5)\n",
            "Requirement already satisfied: matplotlib<4 in /usr/local/lib/python3.10/dist-packages (from mlflow) (3.7.1)\n",
            "Requirement already satisfied: gunicorn<22 in /usr/local/lib/python3.10/dist-packages (from mlflow) (21.2.0)\n",
            "Requirement already satisfied: Jinja2<4,>=2.11 in /usr/local/lib/python3.10/dist-packages (from mlflow) (3.1.2)\n",
            "Requirement already satisfied: Mako in /usr/local/lib/python3.10/dist-packages (from alembic!=1.10.0,<2->mlflow) (1.2.4)\n",
            "Requirement already satisfied: typing-extensions>=4 in /usr/local/lib/python3.10/dist-packages (from alembic!=1.10.0,<2->mlflow) (4.5.0)\n",
            "Requirement already satisfied: pyjwt>=1.7.0 in /usr/lib/python3/dist-packages (from databricks-cli<1,>=0.8.7->mlflow) (2.3.0)\n",
            "Requirement already satisfied: oauthlib>=3.1.0 in /usr/local/lib/python3.10/dist-packages (from databricks-cli<1,>=0.8.7->mlflow) (3.2.2)\n",
            "Requirement already satisfied: tabulate>=0.7.7 in /usr/local/lib/python3.10/dist-packages (from databricks-cli<1,>=0.8.7->mlflow) (0.9.0)\n",
            "Requirement already satisfied: six>=1.10.0 in /usr/local/lib/python3.10/dist-packages (from databricks-cli<1,>=0.8.7->mlflow) (1.16.0)\n",
            "Requirement already satisfied: urllib3<3,>=1.26.7 in /usr/local/lib/python3.10/dist-packages (from databricks-cli<1,>=0.8.7->mlflow) (2.0.7)\n",
            "Requirement already satisfied: websocket-client>=0.32.0 in /usr/local/lib/python3.10/dist-packages (from docker<7,>=4.0.0->mlflow) (1.6.4)\n",
            "Requirement already satisfied: Werkzeug>=2.2.2 in /usr/local/lib/python3.10/dist-packages (from Flask<3->mlflow) (3.0.0)\n",
            "Requirement already satisfied: itsdangerous>=2.0 in /usr/local/lib/python3.10/dist-packages (from Flask<3->mlflow) (2.1.2)\n",
            "Requirement already satisfied: gitdb<5,>=4.0.1 in /usr/local/lib/python3.10/dist-packages (from gitpython<4,>=2.1.0->mlflow) (4.0.11)\n",
            "Requirement already satisfied: zipp>=0.5 in /usr/local/lib/python3.10/dist-packages (from importlib-metadata!=4.7.0,<7,>=3.7.0->mlflow) (3.17.0)\n",
            "Requirement already satisfied: MarkupSafe>=2.0 in /usr/local/lib/python3.10/dist-packages (from Jinja2<4,>=2.11->mlflow) (2.1.3)\n",
            "Requirement already satisfied: contourpy>=1.0.1 in /usr/local/lib/python3.10/dist-packages (from matplotlib<4->mlflow) (1.1.1)\n",
            "Requirement already satisfied: cycler>=0.10 in /usr/local/lib/python3.10/dist-packages (from matplotlib<4->mlflow) (0.12.1)\n",
            "Requirement already satisfied: fonttools>=4.22.0 in /usr/local/lib/python3.10/dist-packages (from matplotlib<4->mlflow) (4.43.1)\n",
            "Requirement already satisfied: kiwisolver>=1.0.1 in /usr/local/lib/python3.10/dist-packages (from matplotlib<4->mlflow) (1.4.5)\n",
            "Requirement already satisfied: pillow>=6.2.0 in /usr/local/lib/python3.10/dist-packages (from matplotlib<4->mlflow) (9.4.0)\n",
            "Requirement already satisfied: pyparsing>=2.3.1 in /usr/local/lib/python3.10/dist-packages (from matplotlib<4->mlflow) (3.1.1)\n",
            "Requirement already satisfied: python-dateutil>=2.7 in /usr/local/lib/python3.10/dist-packages (from matplotlib<4->mlflow) (2.8.2)\n",
            "Requirement already satisfied: charset-normalizer<4,>=2 in /usr/local/lib/python3.10/dist-packages (from requests<3,>=2.17.3->mlflow) (3.3.0)\n",
            "Requirement already satisfied: idna<4,>=2.5 in /usr/local/lib/python3.10/dist-packages (from requests<3,>=2.17.3->mlflow) (3.4)\n",
            "Requirement already satisfied: certifi>=2017.4.17 in /usr/local/lib/python3.10/dist-packages (from requests<3,>=2.17.3->mlflow) (2023.7.22)\n",
            "Requirement already satisfied: joblib>=1.1.1 in /usr/local/lib/python3.10/dist-packages (from scikit-learn<2->mlflow) (1.3.2)\n",
            "Requirement already satisfied: threadpoolctl>=2.0.0 in /usr/local/lib/python3.10/dist-packages (from scikit-learn<2->mlflow) (3.2.0)\n",
            "Requirement already satisfied: greenlet!=0.4.17 in /usr/local/lib/python3.10/dist-packages (from sqlalchemy<3,>=1.4.0->mlflow) (3.0.0)\n",
            "Requirement already satisfied: smmap<6,>=3.0.1 in /usr/local/lib/python3.10/dist-packages (from gitdb<5,>=4.0.1->gitpython<4,>=2.1.0->mlflow) (5.0.1)\n"
          ]
        }
      ],
      "source": [
        "#Instalacion de MLFlow\n",
        "!pip install mlflow"
      ]
    },
    {
      "cell_type": "code",
      "source": [
        "!pip install pyngrok"
      ],
      "metadata": {
        "colab": {
          "base_uri": "https://localhost:8080/"
        },
        "id": "vq6g38XQeHl6",
        "outputId": "3eaccaff-cbd1-41f5-a1d5-a68bb5479d5f"
      },
      "execution_count": 2,
      "outputs": [
        {
          "output_type": "stream",
          "name": "stdout",
          "text": [
            "Requirement already satisfied: pyngrok in /usr/local/lib/python3.10/dist-packages (7.0.0)\n",
            "Requirement already satisfied: PyYAML in /usr/local/lib/python3.10/dist-packages (from pyngrok) (6.0.1)\n"
          ]
        }
      ]
    },
    {
      "cell_type": "code",
      "source": [
        "#Checkear si esta instalado\n",
        "!mlflow"
      ],
      "metadata": {
        "colab": {
          "base_uri": "https://localhost:8080/"
        },
        "id": "HKVbTF6nXK3Y",
        "outputId": "675b1089-4245-41ef-c11d-cffe1a003f9d"
      },
      "execution_count": 4,
      "outputs": [
        {
          "output_type": "stream",
          "name": "stdout",
          "text": [
            "Usage: mlflow [OPTIONS] COMMAND [ARGS]...\n",
            "\n",
            "Options:\n",
            "  --version  Show the version and exit.\n",
            "  --help     Show this message and exit.\n",
            "\n",
            "Commands:\n",
            "  artifacts    Upload, list, and download artifacts from an MLflow...\n",
            "  db           Commands for managing an MLflow tracking database.\n",
            "  deployments  Deploy MLflow models to custom targets.\n",
            "  doctor       Prints out useful information for debugging issues with MLflow.\n",
            "  experiments  Manage experiments.\n",
            "  gc           Permanently delete runs in the `deleted` lifecycle stage.\n",
            "  models       Deploy MLflow models locally.\n",
            "  recipes      Run MLflow Recipes and inspect recipe results.\n",
            "  run          Run an MLflow project from the given URI.\n",
            "  runs         Manage runs.\n",
            "  sagemaker    Serve models on SageMaker.\n",
            "  server       Run the MLflow tracking server.\n"
          ]
        }
      ]
    },
    {
      "cell_type": "code",
      "source": [
        "import mlflow\n",
        "import mlflow.sklearn\n",
        "\n",
        "mlflow.set_experiment('AprendiendoMLFlow-RandomForest')"
      ],
      "metadata": {
        "colab": {
          "base_uri": "https://localhost:8080/"
        },
        "id": "nGK_veAFXYFS",
        "outputId": "ca975e25-1d38-452f-a3bb-141997bafa2a"
      },
      "execution_count": 3,
      "outputs": [
        {
          "output_type": "stream",
          "name": "stderr",
          "text": [
            "2023/10/25 02:38:04 INFO mlflow.tracking.fluent: Experiment with name 'AprendiendoMLFlow-RandomForest' does not exist. Creating a new experiment.\n"
          ]
        },
        {
          "output_type": "execute_result",
          "data": {
            "text/plain": [
              "<Experiment: artifact_location='file:///content/mlruns/760551064086511538', creation_time=1698201484428, experiment_id='760551064086511538', last_update_time=1698201484428, lifecycle_stage='active', name='AprendiendoMLFlow-RandomForest', tags={}>"
            ]
          },
          "metadata": {},
          "execution_count": 3
        }
      ]
    },
    {
      "cell_type": "code",
      "source": [
        "import pandas as pd\n",
        "import numpy as np\n",
        "from sklearn.metrics import mean_squared_error, mean_absolute_error, r2_score\n",
        "from sklearn.model_selection import train_test_split\n",
        "from sklearn.ensemble import RandomForestRegressor\n",
        "import mlflow\n",
        "import mlflow.sklearn\n",
        "import sys\n",
        "import os"
      ],
      "metadata": {
        "id": "FatcxsZmXzhg"
      },
      "execution_count": 5,
      "outputs": []
    },
    {
      "cell_type": "code",
      "source": [
        "def eval_metrics(actual,pred):\n",
        "  rmse = np.sqrt(mean_squared_error(actual,pred))\n",
        "  mae = mean_absolute_error(actual,pred)\n",
        "  r2 = r2_score(actual,pred)\n",
        "  return rmse, mae, r2"
      ],
      "metadata": {
        "id": "SMWztj7sYfrw"
      },
      "execution_count": 6,
      "outputs": []
    },
    {
      "cell_type": "code",
      "source": [
        "data = pd.read_csv('https://raw.githubusercontent.com/mlflow/mlflow/master/tests/datasets/winequality-red.csv', delimiter = \";\")"
      ],
      "metadata": {
        "id": "Gw2d-6LqY-Fb"
      },
      "execution_count": 7,
      "outputs": []
    },
    {
      "cell_type": "code",
      "source": [
        "data.head()"
      ],
      "metadata": {
        "id": "4tI5CuCuaMRt"
      },
      "execution_count": null,
      "outputs": []
    },
    {
      "cell_type": "code",
      "source": [
        "def  train_model(n_estimators,max_depth,max_features,max_leaf_nodes,ccp_alpha):\n",
        "  #Divida los datos en conjuntos de entrenamiento y prueba. (0,75, 0,25)\n",
        "    train, test = train_test_split(data)\n",
        "\n",
        "  # La columna prevista es \"calidad\", que es un escalar de [3, 9]\n",
        "    train_x = train.drop([\"quality\"], axis=1)\n",
        "    test_x = test.drop([\"quality\"], axis=1)\n",
        "    train_y = train[[\"quality\"]]\n",
        "    test_y = test[[\"quality\"]]\n",
        "\n",
        "    with mlflow.start_run():\n",
        "      regressor = RandomForestRegressor(n_estimators = n_estimators ,\n",
        "                                        max_depth = max_depth,\n",
        "                                        max_features = max_features,\n",
        "                                        max_leaf_nodes = max_leaf_nodes,\n",
        "                                        ccp_alpha = ccp_alpha ,\n",
        "                                        random_state = 33)\n",
        "      regressor.fit(train_x, train_y.values.ravel())\n",
        "\n",
        "      predicted_qualities = regressor.predict(test_x)\n",
        "\n",
        "      (rmse, mae, r2) = eval_metrics(test_y, predicted_qualities)\n",
        "\n",
        "      print(f\"RandomForestRegressor (n_estimators={n_estimators:f}, max_depth={max_depth:f},max_features={max_features:f}, max_leaf_nodes={max_leaf_nodes:f},ccp_alpha={ccp_alpha:f}):\")\n",
        "      print(f\" RMSE: {rmse}\")\n",
        "      print(f\" MAE: {mae}\")\n",
        "      print(f\" R2: {r2}\")\n",
        "\n",
        "      mlflow.log_param(\"n_estimators\", n_estimators)\n",
        "      mlflow.log_param(\"max_depth\", max_depth)\n",
        "      mlflow.log_param(\"max_features\", max_features)\n",
        "      mlflow.log_param(\"max_leaf_nodes\", max_leaf_nodes)\n",
        "      mlflow.log_param(\"ccp_alpha\", ccp_alpha)\n",
        "      mlflow.log_metric(\"rmse\", rmse)\n",
        "      mlflow.log_metric(\"r2\", r2)\n",
        "      mlflow.log_metric(\"mae\", mae)\n",
        "\n",
        "      mlflow.sklearn.log_model(regressor,\"model\")"
      ],
      "metadata": {
        "id": "Mo27_h0uaScY"
      },
      "execution_count": 18,
      "outputs": []
    },
    {
      "cell_type": "code",
      "source": [
        "train_model(500,3,3,3,0)"
      ],
      "metadata": {
        "colab": {
          "base_uri": "https://localhost:8080/"
        },
        "id": "nengMtjwbS3n",
        "outputId": "c263445f-d292-45bf-c7f1-a43bbc7c1b5a"
      },
      "execution_count": 19,
      "outputs": [
        {
          "output_type": "stream",
          "name": "stdout",
          "text": [
            "RandomForestRegressor (n_estimators=500.000000, max_depth=3.000000,max_features=3.000000, max_leaf_nodes=3.000000,ccp_alpha=0.000000):\n",
            " RMSE: 0.7091385880038996\n",
            " MAE: 0.5609066260907529\n",
            " R2: 0.2241863840924656\n"
          ]
        }
      ]
    },
    {
      "cell_type": "code",
      "source": [
        "train_model(1000,3,3,3,0)"
      ],
      "metadata": {
        "colab": {
          "base_uri": "https://localhost:8080/"
        },
        "id": "1a4Gq_pTbumL",
        "outputId": "cea593cd-5059-45bc-8fa9-bd33c105657c"
      },
      "execution_count": 20,
      "outputs": [
        {
          "output_type": "stream",
          "name": "stdout",
          "text": [
            "RandomForestRegressor (n_estimators=1000.000000, max_depth=3.000000,max_features=3.000000, max_leaf_nodes=3.000000,ccp_alpha=0.000000):\n",
            " RMSE: 0.6852221910497496\n",
            " MAE: 0.5560049507807552\n",
            " R2: 0.2523118737099097\n"
          ]
        }
      ]
    },
    {
      "cell_type": "code",
      "source": [
        "train_model(5000,3,3,3,0)"
      ],
      "metadata": {
        "colab": {
          "base_uri": "https://localhost:8080/"
        },
        "id": "FKNhSH5PvL-1",
        "outputId": "1a025da2-b64e-4dfc-a41e-e4ecb9f8bb3c"
      },
      "execution_count": 21,
      "outputs": [
        {
          "output_type": "stream",
          "name": "stdout",
          "text": [
            "RandomForestRegressor (n_estimators=5000.000000, max_depth=3.000000,max_features=3.000000, max_leaf_nodes=3.000000,ccp_alpha=0.000000):\n",
            " RMSE: 0.6417722227757701\n",
            " MAE: 0.5432876805028073\n",
            " R2: 0.2631663564085108\n"
          ]
        }
      ]
    },
    {
      "cell_type": "code",
      "source": [
        "train_model(500,3,3,3,1)"
      ],
      "metadata": {
        "colab": {
          "base_uri": "https://localhost:8080/"
        },
        "id": "eWHq-Y_Obxnt",
        "outputId": "7714e855-7642-4091-cdb7-d3fa05b0e9e1"
      },
      "execution_count": 22,
      "outputs": [
        {
          "output_type": "stream",
          "name": "stdout",
          "text": [
            "RandomForestRegressor (n_estimators=500.000000, max_depth=3.000000,max_features=3.000000, max_leaf_nodes=3.000000,ccp_alpha=1.000000):\n",
            " RMSE: 0.7677284568721202\n",
            " MAE: 0.658806980817348\n",
            " R2: -0.007802483126898352\n"
          ]
        }
      ]
    },
    {
      "cell_type": "code",
      "source": [
        "train_model(1000,3,3,3,1)"
      ],
      "metadata": {
        "colab": {
          "base_uri": "https://localhost:8080/"
        },
        "id": "4maVHY6Cb2qa",
        "outputId": "db0dea7a-da9d-41a7-daf8-71ef6d668e01"
      },
      "execution_count": 23,
      "outputs": [
        {
          "output_type": "stream",
          "name": "stdout",
          "text": [
            "RandomForestRegressor (n_estimators=1000.000000, max_depth=3.000000,max_features=3.000000, max_leaf_nodes=3.000000,ccp_alpha=1.000000):\n",
            " RMSE: 0.7744413875341047\n",
            " MAE: 0.6536848874061715\n",
            " R2: -0.0001095771395807077\n"
          ]
        }
      ]
    },
    {
      "cell_type": "code",
      "source": [
        "train_model(5000,3,3,3,1)"
      ],
      "metadata": {
        "colab": {
          "base_uri": "https://localhost:8080/"
        },
        "id": "uuYux5iEb6f0",
        "outputId": "d427d3ac-d467-427f-b8a6-6ef628e315b8"
      },
      "execution_count": 24,
      "outputs": [
        {
          "output_type": "stream",
          "name": "stdout",
          "text": [
            "RandomForestRegressor (n_estimators=5000.000000, max_depth=3.000000,max_features=3.000000, max_leaf_nodes=3.000000,ccp_alpha=1.000000):\n",
            " RMSE: 0.8163607064285024\n",
            " MAE: 0.6960332927439532\n",
            " R2: -0.002936149512984043\n"
          ]
        }
      ]
    },
    {
      "cell_type": "code",
      "source": [
        "train_model(500,3,3,3,0.5)"
      ],
      "metadata": {
        "colab": {
          "base_uri": "https://localhost:8080/"
        },
        "id": "5iJ2VsOub9KK",
        "outputId": "c1455f11-6761-4fdf-df36-6d1809717f1a"
      },
      "execution_count": 25,
      "outputs": [
        {
          "output_type": "stream",
          "name": "stdout",
          "text": [
            "RandomForestRegressor (n_estimators=500.000000, max_depth=3.000000,max_features=3.000000, max_leaf_nodes=3.000000,ccp_alpha=0.500000):\n",
            " RMSE: 0.773872865594895\n",
            " MAE: 0.6575554628857379\n",
            " R2: -0.004873043506949504\n"
          ]
        }
      ]
    },
    {
      "cell_type": "code",
      "source": [
        "train_model(1000,3,3,3,0.5)"
      ],
      "metadata": {
        "colab": {
          "base_uri": "https://localhost:8080/"
        },
        "id": "qZ0s89KpcEXY",
        "outputId": "eae25aa2-6f9b-4cc0-f277-3b07b61f2ee4"
      },
      "execution_count": 26,
      "outputs": [
        {
          "output_type": "stream",
          "name": "stdout",
          "text": [
            "RandomForestRegressor (n_estimators=1000.000000, max_depth=3.000000,max_features=3.000000, max_leaf_nodes=3.000000,ccp_alpha=0.500000):\n",
            " RMSE: 0.7987660958662954\n",
            " MAE: 0.670476601334445\n",
            " R2: -0.0030298316388677193\n"
          ]
        }
      ]
    },
    {
      "cell_type": "code",
      "source": [
        "train_model(5000,3,3,3,0.5)"
      ],
      "metadata": {
        "colab": {
          "base_uri": "https://localhost:8080/"
        },
        "id": "QFgwDSUfvo5N",
        "outputId": "7c3d3ac3-6db1-48b8-c8c9-4e66987f3038"
      },
      "execution_count": 27,
      "outputs": [
        {
          "output_type": "stream",
          "name": "stdout",
          "text": [
            "RandomForestRegressor (n_estimators=5000.000000, max_depth=3.000000,max_features=3.000000, max_leaf_nodes=3.000000,ccp_alpha=0.500000):\n",
            " RMSE: 0.8361341399570807\n",
            " MAE: 0.7065174320266894\n",
            " R2: -0.00020787582069048405\n"
          ]
        }
      ]
    },
    {
      "cell_type": "code",
      "source": [
        "train_model(500,2,2,2,0)"
      ],
      "metadata": {
        "colab": {
          "base_uri": "https://localhost:8080/"
        },
        "id": "UXlxUHaYwiEN",
        "outputId": "d1554ee7-03dd-4b2c-cc7a-5f89aa757e6a"
      },
      "execution_count": 29,
      "outputs": [
        {
          "output_type": "stream",
          "name": "stdout",
          "text": [
            "RandomForestRegressor (n_estimators=500.000000, max_depth=2.000000,max_features=2.000000, max_leaf_nodes=2.000000,ccp_alpha=0.000000):\n",
            " RMSE: 0.745364275954991\n",
            " MAE: 0.617126415409111\n",
            " R2: 0.14553484423695584\n"
          ]
        }
      ]
    },
    {
      "cell_type": "code",
      "source": [
        "train_model(500,2,2,2,0.05)"
      ],
      "metadata": {
        "colab": {
          "base_uri": "https://localhost:8080/"
        },
        "id": "EMcYsqnSxAI-",
        "outputId": "29e45156-1d0c-494f-d43d-b35977197e13"
      },
      "execution_count": 33,
      "outputs": [
        {
          "output_type": "stream",
          "name": "stdout",
          "text": [
            "RandomForestRegressor (n_estimators=500.000000, max_depth=2.000000,max_features=2.000000, max_leaf_nodes=2.000000,ccp_alpha=0.050000):\n",
            " RMSE: 0.7589577803683875\n",
            " MAE: 0.637793930034519\n",
            " R2: 0.13698058842904837\n"
          ]
        }
      ]
    },
    {
      "cell_type": "code",
      "source": [
        "train_model(500,2,2,2,0.09)"
      ],
      "metadata": {
        "colab": {
          "base_uri": "https://localhost:8080/"
        },
        "id": "Qsm-YWphxMZx",
        "outputId": "883598d9-99a8-44ba-f8c4-3c88aefe003c"
      },
      "execution_count": 35,
      "outputs": [
        {
          "output_type": "stream",
          "name": "stdout",
          "text": [
            "RandomForestRegressor (n_estimators=500.000000, max_depth=2.000000,max_features=2.000000, max_leaf_nodes=2.000000,ccp_alpha=0.090000):\n",
            " RMSE: 0.770252409457702\n",
            " MAE: 0.6439205754756645\n",
            " R2: 0.07555019395365137\n"
          ]
        }
      ]
    },
    {
      "cell_type": "code",
      "source": [
        "train_model(500,2,2,2,0.11)"
      ],
      "metadata": {
        "colab": {
          "base_uri": "https://localhost:8080/"
        },
        "id": "ORcPAsG0xQ-K",
        "outputId": "e43bae89-c859-40ac-bae4-620171eec123"
      },
      "execution_count": 36,
      "outputs": [
        {
          "output_type": "stream",
          "name": "stdout",
          "text": [
            "RandomForestRegressor (n_estimators=500.000000, max_depth=2.000000,max_features=2.000000, max_leaf_nodes=2.000000,ccp_alpha=0.110000):\n",
            " RMSE: 0.7535552390145923\n",
            " MAE: 0.6329172203401585\n",
            " R2: 0.06441824593079803\n"
          ]
        }
      ]
    },
    {
      "cell_type": "code",
      "source": [
        "train_model(500,2,2,2,0.1)"
      ],
      "metadata": {
        "colab": {
          "base_uri": "https://localhost:8080/"
        },
        "id": "YyQ7jONLwn0e",
        "outputId": "e140c830-f480-400a-aa0d-098186d5a48a"
      },
      "execution_count": 30,
      "outputs": [
        {
          "output_type": "stream",
          "name": "stdout",
          "text": [
            "RandomForestRegressor (n_estimators=500.000000, max_depth=2.000000,max_features=2.000000, max_leaf_nodes=2.000000,ccp_alpha=0.100000):\n",
            " RMSE: 0.80332607647931\n",
            " MAE: 0.6662891121188826\n",
            " R2: 0.05437952189958184\n"
          ]
        }
      ]
    },
    {
      "cell_type": "code",
      "source": [
        "train_model(500,2,2,2,0.15)"
      ],
      "metadata": {
        "colab": {
          "base_uri": "https://localhost:8080/"
        },
        "id": "3Kuh6rtfxGGG",
        "outputId": "1fea0a7f-23e4-4820-bccf-fc15a92bdf85"
      },
      "execution_count": 34,
      "outputs": [
        {
          "output_type": "stream",
          "name": "stdout",
          "text": [
            "RandomForestRegressor (n_estimators=500.000000, max_depth=2.000000,max_features=2.000000, max_leaf_nodes=2.000000,ccp_alpha=0.150000):\n",
            " RMSE: 0.7481096875849403\n",
            " MAE: 0.6429998550682055\n",
            " R2: 0.0025519432214633486\n"
          ]
        }
      ]
    },
    {
      "cell_type": "code",
      "source": [
        "train_model(500,2,2,2,0.2)"
      ],
      "metadata": {
        "colab": {
          "base_uri": "https://localhost:8080/"
        },
        "id": "o5ZevO2Bwt2C",
        "outputId": "3d030a30-ac6a-49e8-cba8-61c27d6461c2"
      },
      "execution_count": 32,
      "outputs": [
        {
          "output_type": "stream",
          "name": "stdout",
          "text": [
            "RandomForestRegressor (n_estimators=500.000000, max_depth=2.000000,max_features=2.000000, max_leaf_nodes=2.000000,ccp_alpha=0.200000):\n",
            " RMSE: 0.8271004975835322\n",
            " MAE: 0.698885696413678\n",
            " R2: -0.0017502315169521943\n"
          ]
        }
      ]
    },
    {
      "cell_type": "code",
      "source": [
        "train_model(500,2,2,2,0.25)"
      ],
      "metadata": {
        "colab": {
          "base_uri": "https://localhost:8080/"
        },
        "id": "avGWh_zjwrZ9",
        "outputId": "1d355d08-eee9-4615-8c9e-1c4ec1eb2a67"
      },
      "execution_count": 31,
      "outputs": [
        {
          "output_type": "stream",
          "name": "stdout",
          "text": [
            "RandomForestRegressor (n_estimators=500.000000, max_depth=2.000000,max_features=2.000000, max_leaf_nodes=2.000000,ccp_alpha=0.250000):\n",
            " RMSE: 0.8733780062505644\n",
            " MAE: 0.7441751042535445\n",
            " R2: -0.00037920236355515335\n"
          ]
        }
      ]
    },
    {
      "cell_type": "code",
      "source": [
        "from pyngrok import ngrok\n",
        "#Terminar túneles abiertos si existen\n",
        "ngrok.kill()\n",
        "\n",
        "#Configuración del token de autenticación (opcional)\n",
        "#Obtén tu token de autenticación https://dashboard.ngrok.com/auth\n",
        "NGROK_AUTH_TOKEN = \"2XEec4hrhYjLwSGCx8oeWfA5vKl_2Tuwtzko2XNnUL6op3SS8\"\n",
        "ngrok.set_auth_token(NGROK_AUTH_TOKEN)\n",
        "\n",
        "#Abrir un túnel HTTPs en el puerto 5000 para http://localhost:5000\n",
        "ngrok_tunnel = ngrok.connect(addr =\"5000\", proto = \"http\", bind_tls = True)\n",
        "print(\"Seguimiento UI MLFlow:\", ngrok_tunnel.public_url)"
      ],
      "metadata": {
        "id": "kmkUxpLNefAQ"
      },
      "execution_count": null,
      "outputs": []
    },
    {
      "cell_type": "code",
      "source": [
        "!mlflow ui"
      ],
      "metadata": {
        "id": "cpf_cjXlgYCW"
      },
      "execution_count": null,
      "outputs": []
    }
  ]
}