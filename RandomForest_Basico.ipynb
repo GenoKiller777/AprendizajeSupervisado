{
  "nbformat": 4,
  "nbformat_minor": 0,
  "metadata": {
    "kernelspec": {
      "display_name": "Python 3",
      "language": "python",
      "name": "python3"
    },
    "language_info": {
      "codemirror_mode": {
        "name": "ipython",
        "version": 3
      },
      "file_extension": ".py",
      "mimetype": "text/x-python",
      "name": "python",
      "nbconvert_exporter": "python",
      "pygments_lexer": "ipython3",
      "version": "3.7.3"
    },
    "colab": {
      "name": "RandomForest/Basico.ipynb",
      "provenance": [],
      "collapsed_sections": []
    }
  },
  "cells": [
    {
      "cell_type": "code",
      "metadata": {
        "id": "aIVRt6kUQyp_"
      },
      "source": [
        "import matplotlib.pyplot as plt\n",
        "from sklearn.datasets import load_digits\n",
        "from sklearn.ensemble import RandomForestClassifier\n",
        "from sklearn.tree import DecisionTreeClassifier\n",
        "from sklearn.model_selection import train_test_split\n",
        "from sklearn.metrics import plot_confusion_matrix"
      ],
      "execution_count": 1,
      "outputs": []
    },
    {
      "cell_type": "code",
      "metadata": {
        "id": "wVor_SRuQyqA"
      },
      "source": [
        "digits = load_digits()"
      ],
      "execution_count": 4,
      "outputs": []
    },
    {
      "cell_type": "code",
      "metadata": {
        "colab": {
          "base_uri": "https://localhost:8080/"
        },
        "id": "wasKMOKuccTJ",
        "outputId": "2f385de0-5799-4c7e-9246-15d5e5d567d4"
      },
      "source": [
        "digits.images[7]"
      ],
      "execution_count": 15,
      "outputs": [
        {
          "output_type": "execute_result",
          "data": {
            "text/plain": [
              "array([[ 0.,  0.,  7.,  8., 13., 16., 15.,  1.],\n",
              "       [ 0.,  0.,  7.,  7.,  4., 11., 12.,  0.],\n",
              "       [ 0.,  0.,  0.,  0.,  8., 13.,  1.,  0.],\n",
              "       [ 0.,  4.,  8.,  8., 15., 15.,  6.,  0.],\n",
              "       [ 0.,  2., 11., 15., 15.,  4.,  0.,  0.],\n",
              "       [ 0.,  0.,  0., 16.,  5.,  0.,  0.,  0.],\n",
              "       [ 0.,  0.,  9., 15.,  1.,  0.,  0.,  0.],\n",
              "       [ 0.,  0., 13.,  5.,  0.,  0.,  0.,  0.]])"
            ]
          },
          "metadata": {},
          "execution_count": 15
        }
      ]
    },
    {
      "cell_type": "code",
      "metadata": {
        "colab": {
          "base_uri": "https://localhost:8080/",
          "height": 275
        },
        "id": "jz0pTFEXb3s6",
        "outputId": "b371750e-bf57-4379-9000-92144096719e"
      },
      "source": [
        "plt.matshow(digits.images[7]) \n",
        "plt.show()"
      ],
      "execution_count": 6,
      "outputs": [
        {
          "output_type": "display_data",
          "data": {
            "image/png": "[encoded data removed]",
            "text/plain": [
              "<Figure size 288x288 with 1 Axes>"
            ]
          },
          "metadata": {
            "needs_background": "light"
          }
        }
      ]
    },
    {
      "cell_type": "code",
      "metadata": {
        "colab": {
          "base_uri": "https://localhost:8080/"
        },
        "id": "qpgHKOY0cWsA",
        "outputId": "7e27c9a1-bd46-42a9-e82f-96e5c870b012"
      },
      "source": [
        "digits.images[33]"
      ],
      "execution_count": 13,
      "outputs": [
        {
          "output_type": "execute_result",
          "data": {
            "text/plain": [
              "array([[ 0.,  6., 13.,  5.,  8.,  8.,  1.,  0.],\n",
              "       [ 0.,  8., 16., 16., 16., 16.,  6.,  0.],\n",
              "       [ 0.,  6., 16.,  9.,  6.,  4.,  0.,  0.],\n",
              "       [ 0.,  6., 16., 16., 15.,  5.,  0.,  0.],\n",
              "       [ 0.,  0.,  4.,  5., 15., 12.,  0.,  0.],\n",
              "       [ 0.,  0.,  0.,  3., 16.,  9.,  0.,  0.],\n",
              "       [ 0.,  1.,  8., 13., 15.,  3.,  0.,  0.],\n",
              "       [ 0.,  4., 16., 15.,  3.,  0.,  0.,  0.]])"
            ]
          },
          "metadata": {},
          "execution_count": 13
        }
      ]
    },
    {
      "cell_type": "code",
      "metadata": {
        "colab": {
          "base_uri": "https://localhost:8080/",
          "height": 275
        },
        "id": "rbqOq5BYQyqC",
        "outputId": "89d9e77a-f992-4dbc-cd49-f45b66bdd6ce"
      },
      "source": [
        "plt.matshow(digits.images[33]) \n",
        "plt.show()"
      ],
      "execution_count": 5,
      "outputs": [
        {
          "output_type": "display_data",
          "data": {
            "image/png": "[encoded data removed]",
            "text/plain": [
              "<Figure size 288x288 with 1 Axes>"
            ]
          },
          "metadata": {
            "needs_background": "light"
          }
        }
      ]
    },
    {
      "cell_type": "code",
      "metadata": {
        "colab": {
          "base_uri": "https://localhost:8080/"
        },
        "id": "0nWTm8POcZcB",
        "outputId": "83dae97d-1a2e-4b4d-9f87-e07bf7188a35"
      },
      "source": [
        "digits.images[77]"
      ],
      "execution_count": 14,
      "outputs": [
        {
          "output_type": "execute_result",
          "data": {
            "text/plain": [
              "array([[ 0.,  0.,  0.,  0., 11., 15.,  4.,  0.],\n",
              "       [ 0.,  0.,  0.,  3., 16., 16., 12.,  0.],\n",
              "       [ 0.,  0.,  0.,  8., 14., 16., 12.,  0.],\n",
              "       [ 0.,  0.,  0.,  5., 10., 16.,  6.,  0.],\n",
              "       [ 0.,  1.,  7., 11., 16., 13.,  0.,  0.],\n",
              "       [ 0.,  9., 16., 16., 14.,  1.,  0.,  0.],\n",
              "       [ 0.,  3.,  8., 14., 16.,  9.,  0.,  0.],\n",
              "       [ 0.,  0.,  0.,  1., 11., 16., 12.,  0.]])"
            ]
          },
          "metadata": {},
          "execution_count": 14
        }
      ]
    },
    {
      "cell_type": "code",
      "metadata": {
        "colab": {
          "base_uri": "https://localhost:8080/",
          "height": 275
        },
        "id": "EtVY_HTJb7E4",
        "outputId": "65b8f887-0bdd-4600-96d4-1392643b2e57"
      },
      "source": [
        "plt.matshow(digits.images[77]) \n",
        "plt.show()"
      ],
      "execution_count": 7,
      "outputs": [
        {
          "output_type": "display_data",
          "data": {
            "image/png": "[encoded data removed]",
            "text/plain": [
              "<Figure size 288x288 with 1 Axes>"
            ]
          },
          "metadata": {
            "needs_background": "light"
          }
        }
      ]
    },
    {
      "cell_type": "code",
      "metadata": {
        "id": "LonYMTkCQyqC"
      },
      "source": [
        "X, y = load_digits(return_X_y=True)"
      ],
      "execution_count": 8,
      "outputs": []
    },
    {
      "cell_type": "code",
      "metadata": {
        "colab": {
          "base_uri": "https://localhost:8080/"
        },
        "id": "FYwI8TgUQyqD",
        "outputId": "30eaf3ba-8871-4408-956a-43a7109c31d3"
      },
      "source": [
        "y.shape"
      ],
      "execution_count": 16,
      "outputs": [
        {
          "output_type": "execute_result",
          "data": {
            "text/plain": [
              "(1797,)"
            ]
          },
          "metadata": {},
          "execution_count": 16
        }
      ]
    },
    {
      "cell_type": "code",
      "metadata": {
        "colab": {
          "base_uri": "https://localhost:8080/"
        },
        "id": "jkf_Np9BQyqD",
        "outputId": "08f09c7b-fe5b-4a17-90e2-8903006ff2d7"
      },
      "source": [
        "X.shape"
      ],
      "execution_count": 17,
      "outputs": [
        {
          "output_type": "execute_result",
          "data": {
            "text/plain": [
              "(1797, 64)"
            ]
          },
          "metadata": {},
          "execution_count": 17
        }
      ]
    },
    {
      "cell_type": "code",
      "metadata": {
        "id": "GQxhzFsyQyqE"
      },
      "source": [
        "X_train, X_test, y_train, y_test = train_test_split(X, y, test_size=0.2, random_state=0)"
      ],
      "execution_count": 18,
      "outputs": []
    },
    {
      "cell_type": "code",
      "metadata": {
        "colab": {
          "base_uri": "https://localhost:8080/"
        },
        "id": "n_0iGIT6QyqE",
        "outputId": "8a0d62cb-4829-4269-896c-c4626a8cd43a"
      },
      "source": [
        "clf = DecisionTreeClassifier()\n",
        "clf.fit(X_train, y_train)"
      ],
      "execution_count": 19,
      "outputs": [
        {
          "output_type": "execute_result",
          "data": {
            "text/plain": [
              "DecisionTreeClassifier(ccp_alpha=0.0, class_weight=None, criterion='gini',\n",
              "                       max_depth=None, max_features=None, max_leaf_nodes=None,\n",
              "                       min_impurity_decrease=0.0, min_impurity_split=None,\n",
              "                       min_samples_leaf=1, min_samples_split=2,\n",
              "                       min_weight_fraction_leaf=0.0, presort='deprecated',\n",
              "                       random_state=None, splitter='best')"
            ]
          },
          "metadata": {},
          "execution_count": 19
        }
      ]
    },
    {
      "cell_type": "code",
      "metadata": {
        "colab": {
          "base_uri": "https://localhost:8080/"
        },
        "id": "294gVD8dQyqF",
        "outputId": "8d3a2598-e573-4d9e-92f7-f46d4d82c9a4"
      },
      "source": [
        "target_pred = clf.predict(X_test)\n",
        "print('Predicción: ', target_pred)\n",
        "print('Real:       ', y_test)"
      ],
      "execution_count": 20,
      "outputs": [
        {
          "output_type": "stream",
          "name": "stdout",
          "text": [
            "Predicción:  [2 8 2 6 6 7 1 9 8 0 2 8 6 6 8 6 4 0 5 8 8 7 8 4 7 5 4 9 2 9 4 7 6 8 9 1 3\n",
            " 1 0 1 8 6 7 7 1 0 7 6 2 1 9 6 7 9 9 0 9 2 6 3 0 2 3 4 3 9 2 6 9 1 8 3 5 1\n",
            " 2 3 2 2 9 7 2 3 8 0 9 3 7 5 1 2 0 9 3 1 5 7 4 8 5 1 5 4 2 5 9 0 7 1 4 7 2\n",
            " 4 8 9 7 9 8 0 2 5 2 5 2 4 9 7 0 6 1 5 1 3 9 5 9 9 5 7 5 6 2 8 6 5 6 1 5 1\n",
            " 5 9 9 1 3 3 6 1 8 9 1 7 6 7 3 5 6 0 8 1 9 3 8 1 0 4 1 6 3 8 6 7 4 9 6 9 9\n",
            " 3 3 3 0 7 7 5 7 8 0 7 8 9 6 4 5 0 1 4 6 4 3 3 0 9 5 5 2 3 4 2 1 8 8 9 9 4\n",
            " 9 3 7 6 2 3 3 1 6 9 3 6 3 2 2 0 7 6 1 1 3 7 2 7 2 5 5 7 5 2 3 7 2 7 5 5 6\n",
            " 0 9 1 6 5 8 7 4 9 8 0 3 6 4 6 3 2 6 3 8 8 4 6 7 5 2 4 5 3 2 4 6 9 0 5 4 3\n",
            " 4 6 2 9 0 1 7 2 0 9 6 6 4 2 0 7 9 8 5 7 8 2 8 4 3 7 2 6 9 1 5 1 0 8 8 3 8\n",
            " 5 6 2 2 7 2 3 5 1 6 4 5 0 9 4 1 1 7 0 8 9 0 5 4 3 3 0]\n",
            "Real:        [2 8 2 6 6 7 1 9 8 5 2 8 6 6 6 6 1 0 5 8 8 7 8 4 7 5 4 9 2 9 4 7 6 8 9 4 3\n",
            " 1 0 1 8 6 7 7 1 0 7 6 2 1 9 6 7 9 0 0 5 1 6 3 0 2 3 4 1 9 2 6 9 1 8 3 5 1\n",
            " 2 8 2 2 9 7 2 3 6 0 5 3 7 5 1 2 9 9 3 1 7 7 4 8 5 8 5 5 2 5 9 0 7 1 4 7 3\n",
            " 4 8 9 7 9 8 2 6 5 2 5 8 4 8 7 0 6 1 5 9 9 9 5 9 9 5 7 5 6 2 8 6 9 6 1 5 1\n",
            " 5 9 9 1 5 3 6 1 8 9 8 7 6 7 6 5 6 0 8 8 9 8 6 1 0 4 1 6 3 8 6 7 4 5 6 3 0\n",
            " 3 3 3 0 7 7 5 7 8 0 7 8 9 6 4 5 0 1 4 6 4 3 3 0 9 5 9 2 1 4 2 1 6 8 9 2 4\n",
            " 9 3 7 6 2 3 3 1 6 9 3 6 3 2 2 0 7 6 1 1 9 7 2 7 8 5 5 7 5 2 3 7 2 7 5 5 7\n",
            " 0 9 1 6 5 9 7 4 3 8 0 3 6 4 6 3 2 6 8 8 8 4 6 7 5 2 4 5 3 2 4 6 9 4 5 4 3\n",
            " 4 6 2 9 0 1 7 2 0 9 6 0 4 2 0 7 9 8 5 4 8 2 8 4 3 7 2 6 9 1 5 1 0 8 2 1 9\n",
            " 5 6 8 2 7 2 1 5 1 6 4 5 0 9 4 1 1 7 0 8 9 0 5 4 3 8 8]\n"
          ]
        }
      ]
    },
    {
      "cell_type": "code",
      "metadata": {
        "colab": {
          "base_uri": "https://localhost:8080/"
        },
        "id": "tITj7ef_c9mJ",
        "outputId": "9373b047-8853-4411-e5b1-baa643bbcd93"
      },
      "source": [
        "from sklearn.metrics import accuracy_score\n",
        "accuracy = accuracy_score(y_test, target_pred)\n",
        "print(\"La precisión es de: \"+ str(round(accuracy*100,3)) +\" %.\")"
      ],
      "execution_count": 32,
      "outputs": [
        {
          "output_type": "stream",
          "name": "stdout",
          "text": [
            "La precisión es de: 85.556 %.\n"
          ]
        }
      ]
    },
    {
      "cell_type": "code",
      "metadata": {
        "colab": {
          "base_uri": "https://localhost:8080/",
          "height": 312
        },
        "id": "9uy3GNQkQyqG",
        "outputId": "6ba21787-1498-40ab-f6b2-b241b63d9d2f"
      },
      "source": [
        "disp = plot_confusion_matrix(clf, X_test, y_test,                                 \n",
        "                                 cmap=plt.cm.Blues,\n",
        "                                 normalize='true')\n",
        "disp.ax_.set_title('Matriz de confusión')"
      ],
      "execution_count": 33,
      "outputs": [
        {
          "output_type": "execute_result",
          "data": {
            "text/plain": [
              "Text(0.5, 1.0, 'Matriz de confusión')"
            ]
          },
          "metadata": {},
          "execution_count": 33
        },
        {
          "output_type": "display_data",
          "data": {
            "image/png": "[encoded data removed]",
            "text/plain": [
              "<Figure size 432x288 with 2 Axes>"
            ]
          },
          "metadata": {
            "needs_background": "light"
          }
        }
      ]
    },
    {
      "cell_type": "code",
      "metadata": {
        "colab": {
          "base_uri": "https://localhost:8080/"
        },
        "id": "FUYFIh0oeW6K",
        "outputId": "9b266d33-f682-450d-e86b-a47279162dda"
      },
      "source": [
        "from sklearn.metrics import classification_report\n",
        "print(classification_report(y_test, target_pred))"
      ],
      "execution_count": 34,
      "outputs": [
        {
          "output_type": "stream",
          "name": "stdout",
          "text": [
            "              precision    recall  f1-score   support\n",
            "\n",
            "           0       0.83      0.89      0.86        27\n",
            "           1       0.85      0.83      0.84        35\n",
            "           2       0.85      0.92      0.88        36\n",
            "           3       0.68      0.90      0.78        29\n",
            "           4       0.93      0.90      0.92        30\n",
            "           5       0.92      0.85      0.88        40\n",
            "           6       0.95      0.86      0.90        44\n",
            "           7       0.97      0.95      0.96        39\n",
            "           8       0.79      0.69      0.74        39\n",
            "           9       0.79      0.80      0.80        41\n",
            "\n",
            "    accuracy                           0.86       360\n",
            "   macro avg       0.86      0.86      0.86       360\n",
            "weighted avg       0.86      0.86      0.86       360\n",
            "\n"
          ]
        }
      ]
    },
    {
      "cell_type": "markdown",
      "metadata": {
        "id": "VZTN2CFJemX-"
      },
      "source": [
        "# Comparación de un modelo de Decision Tree"
      ]
    },
    {
      "cell_type": "code",
      "metadata": {
        "id": "YYIgvlwNerfK"
      },
      "source": [
        "import pandas as pd\n",
        "from sklearn.model_selection import train_test_split\n",
        "from sklearn.tree import DecisionTreeClassifier\n",
        "from sklearn.metrics import plot_confusion_matrix"
      ],
      "execution_count": 36,
      "outputs": []
    },
    {
      "cell_type": "code",
      "metadata": {
        "colab": {
          "base_uri": "https://localhost:8080/"
        },
        "id": "OTNkDbHffghi",
        "outputId": "2af84c6b-31c5-4766-a2c1-336a0fb33087"
      },
      "source": [
        "clf_decisiontree = DecisionTreeClassifier(max_depth = 4, criterion='entropy') \n",
        "clf_decisiontree.fit(X_train, y_train)                                        "
      ],
      "execution_count": 42,
      "outputs": [
        {
          "output_type": "execute_result",
          "data": {
            "text/plain": [
              "DecisionTreeClassifier(ccp_alpha=0.0, class_weight=None, criterion='entropy',\n",
              "                       max_depth=4, max_features=None, max_leaf_nodes=None,\n",
              "                       min_impurity_decrease=0.0, min_impurity_split=None,\n",
              "                       min_samples_leaf=1, min_samples_split=2,\n",
              "                       min_weight_fraction_leaf=0.0, presort='deprecated',\n",
              "                       random_state=None, splitter='best')"
            ]
          },
          "metadata": {},
          "execution_count": 42
        }
      ]
    },
    {
      "cell_type": "code",
      "metadata": {
        "colab": {
          "base_uri": "https://localhost:8080/"
        },
        "id": "vkLtnwJXft1O",
        "outputId": "3fa05014-a53f-4342-d4c2-c7811b1c5b1b"
      },
      "source": [
        "target_pred_decisiontree = clf_decisiontree.predict(X_test)\n",
        "print('Predicción: ', target_pred_decisiontree)\n",
        "print('Real:       ', y_test)"
      ],
      "execution_count": 43,
      "outputs": [
        {
          "output_type": "stream",
          "name": "stdout",
          "text": [
            "Predicción:  [7 8 2 6 6 7 8 9 8 7 8 8 6 6 6 6 1 0 5 2 8 7 8 8 7 5 4 9 2 9 4 4 6 8 9 4 3\n",
            " 8 0 9 8 6 7 4 9 0 4 8 5 1 9 6 4 9 9 0 9 1 6 3 0 2 9 1 5 9 1 6 9 8 8 3 7 1\n",
            " 2 8 8 2 9 4 2 3 6 0 9 3 7 7 1 8 1 9 3 9 7 7 4 8 5 8 7 5 1 2 9 0 5 3 4 8 3\n",
            " 7 8 9 7 7 8 0 8 5 2 5 8 4 2 7 0 6 8 5 3 3 9 5 3 9 7 7 5 6 2 1 6 9 6 9 7 8\n",
            " 5 9 9 9 5 3 6 8 1 9 8 7 6 7 6 7 6 0 8 8 9 8 1 1 0 4 5 6 3 1 6 7 4 9 6 3 9\n",
            " 9 3 9 0 4 7 5 7 8 0 7 8 9 6 4 7 0 8 4 6 1 3 9 0 9 5 3 3 9 5 8 9 6 8 9 9 4\n",
            " 9 5 7 6 8 3 3 8 6 9 3 6 3 3 2 0 4 6 1 8 3 7 3 7 8 5 5 7 5 8 9 7 2 4 5 7 7\n",
            " 0 9 1 6 7 9 7 1 3 8 5 3 6 1 8 3 3 6 8 8 8 4 6 7 7 6 4 7 8 2 4 6 9 0 5 4 3\n",
            " 4 6 2 9 0 5 7 8 0 3 6 5 4 1 0 7 7 8 1 7 8 2 1 7 3 4 2 6 9 9 1 3 0 8 2 1 9\n",
            " 5 6 8 2 7 8 5 5 3 6 4 5 0 9 4 1 1 7 0 8 9 0 8 4 1 8 2]\n",
            "Real:        [2 8 2 6 6 7 1 9 8 5 2 8 6 6 6 6 1 0 5 8 8 7 8 4 7 5 4 9 2 9 4 7 6 8 9 4 3\n",
            " 1 0 1 8 6 7 7 1 0 7 6 2 1 9 6 7 9 0 0 5 1 6 3 0 2 3 4 1 9 2 6 9 1 8 3 5 1\n",
            " 2 8 2 2 9 7 2 3 6 0 5 3 7 5 1 2 9 9 3 1 7 7 4 8 5 8 5 5 2 5 9 0 7 1 4 7 3\n",
            " 4 8 9 7 9 8 2 6 5 2 5 8 4 8 7 0 6 1 5 9 9 9 5 9 9 5 7 5 6 2 8 6 9 6 1 5 1\n",
            " 5 9 9 1 5 3 6 1 8 9 8 7 6 7 6 5 6 0 8 8 9 8 6 1 0 4 1 6 3 8 6 7 4 5 6 3 0\n",
            " 3 3 3 0 7 7 5 7 8 0 7 8 9 6 4 5 0 1 4 6 4 3 3 0 9 5 9 2 1 4 2 1 6 8 9 2 4\n",
            " 9 3 7 6 2 3 3 1 6 9 3 6 3 2 2 0 7 6 1 1 9 7 2 7 8 5 5 7 5 2 3 7 2 7 5 5 7\n",
            " 0 9 1 6 5 9 7 4 3 8 0 3 6 4 6 3 2 6 8 8 8 4 6 7 5 2 4 5 3 2 4 6 9 4 5 4 3\n",
            " 4 6 2 9 0 1 7 2 0 9 6 0 4 2 0 7 9 8 5 4 8 2 8 4 3 7 2 6 9 1 5 1 0 8 2 1 9\n",
            " 5 6 8 2 7 2 1 5 1 6 4 5 0 9 4 1 1 7 0 8 9 0 5 4 3 8 8]\n"
          ]
        }
      ]
    },
    {
      "cell_type": "code",
      "metadata": {
        "colab": {
          "base_uri": "https://localhost:8080/"
        },
        "id": "-e-nQMkFf2pi",
        "outputId": "0e8c9dd0-621e-40b6-aa1a-8280fb1c1619"
      },
      "source": [
        "accuracy_1 = accuracy_score(y_test, target_pred_decisiontree)\n",
        "print(\"La precisión es de: \"+ str(round(accuracy_1*100,3)) +\" %.\")"
      ],
      "execution_count": 44,
      "outputs": [
        {
          "output_type": "stream",
          "name": "stdout",
          "text": [
            "La precisión es de: 67.778 %.\n"
          ]
        }
      ]
    },
    {
      "cell_type": "code",
      "metadata": {
        "colab": {
          "base_uri": "https://localhost:8080/",
          "height": 312
        },
        "id": "mfj3CTlQgcfa",
        "outputId": "d1df9a7b-0687-4962-95b8-a03fea236980"
      },
      "source": [
        "disp_1 = plot_confusion_matrix(clf_decisiontree, X_test, y_test,                                 \n",
        "                                 cmap=plt.cm.Greens,\n",
        "                                 normalize='true')\n",
        "disp_1.ax_.set_title('Matriz de confusión')"
      ],
      "execution_count": 46,
      "outputs": [
        {
          "output_type": "execute_result",
          "data": {
            "text/plain": [
              "Text(0.5, 1.0, 'Matriz de confusión')"
            ]
          },
          "metadata": {},
          "execution_count": 46
        },
        {
          "output_type": "display_data",
          "data": {
            "image/png": "[encoded data removed]",
            "text/plain": [
              "<Figure size 432x288 with 2 Axes>"
            ]
          },
          "metadata": {
            "needs_background": "light"
          }
        }
      ]
    }
  ]
}